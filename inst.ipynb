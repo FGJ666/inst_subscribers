{
 "cells": [
  {
   "cell_type": "code",
   "execution_count": null,
   "metadata": {},
   "outputs": [],
   "source": [
    "import pandas as pd\n",
    "import numpy as np\n",
    "%pip install instaloader\n",
    "import instaloader"
   ]
  },
  {
   "cell_type": "code",
   "execution_count": null,
   "metadata": {},
   "outputs": [],
   "source": [
    "USER = input(\"Введи логин от своего инстаграма\")\n",
    "PASSWORD = input(\"Введи пароль от своего инстаграма\")\n",
    "loader = instaloader.Instaloader()\n",
    "loader.login(USER, PASSWORD)"
   ]
  },
  {
   "cell_type": "code",
   "execution_count": null,
   "metadata": {},
   "outputs": [],
   "source": [
    "target_profile = input(\"Введи логин профиле в котором нужно сравнить подписчиков и подписки\")\n",
    "profile = instaloader.Profile.from_username(loader.context, target_profile)"
   ]
  },
  {
   "cell_type": "code",
   "execution_count": null,
   "metadata": {},
   "outputs": [],
   "source": [
    "df_followers = pd.Series(profile.get_followers())\n",
    "df_followees = pd.Series(profile.get_followees())"
   ]
  },
  {
   "cell_type": "code",
   "execution_count": null,
   "metadata": {},
   "outputs": [],
   "source": [
    "inst_sub = pd.DataFrame({'followers': df_followers, 'followees': df_followees})\n",
    "\n",
    "inst_sub['followers'] = inst_sub['followers'].astype(str)\n",
    "inst_sub['followees'] = inst_sub['followees'].astype(str)\n",
    "inst_sub = inst_sub.fillna({'followees': \"0\", 'followees': \"0\"})\n",
    "\n",
    "def clean_data(inst_sub):\n",
    "    # Split text using string ' ' in columns: 'followers', 'followees'\n",
    "    loc_0 = inst_sub.columns.get_loc('followers')\n",
    "    inst_sub_split = inst_sub['followers'].str.split(expand=True).add_prefix('followers_')\n",
    "    inst_sub = pd.concat([inst_sub.iloc[:, :loc_0], inst_sub_split, inst_sub.iloc[:, loc_0:]], axis=1)\n",
    "    loc_1 = inst_sub.columns.get_loc('followees')\n",
    "    inst_sub_split = inst_sub['followees'].str.split(expand=True).add_prefix('followees_')\n",
    "    inst_sub = pd.concat([inst_sub.iloc[:, :loc_1], inst_sub_split, inst_sub.iloc[:, loc_1:]], axis=1)\n",
    "    inst_sub = inst_sub.drop(columns=['followers', 'followees'])\n",
    "    # Drop columns: 'followers_0', 'followers_2' and 2 other columns\n",
    "    inst_sub = inst_sub.drop(columns=['followers_0', 'followers_2', 'followees_0', 'followees_2'])\n",
    "    # Rename column 'followers_1' to 'followers'\n",
    "    inst_sub = inst_sub.rename(columns={'followers_1': 'followers'})\n",
    "    # Rename column 'followees_1' to 'followees'\n",
    "    inst_sub = inst_sub.rename(columns={'followees_1': 'followees'})\n",
    "    return inst_sub\n",
    "\n",
    "inst_sub_clean = clean_data(inst_sub.copy())\n",
    "\n",
    "inst_sub_clean['followers'] = inst_sub_clean['followers'].astype(str)\n",
    "inst_sub_clean['followees'] = inst_sub_clean['followees'].astype(str)\n",
    "inst_sub_clean = inst_sub_clean.fillna({'followees': \"0\", 'followees': \"0\"})\n",
    "\n",
    "inst_sub_clean.head()"
   ]
  },
  {
   "cell_type": "code",
   "execution_count": null,
   "metadata": {},
   "outputs": [],
   "source": [
    "inst_sub_clean = pd.Series(np.setdiff1d(inst_sub_clean['followees'], inst_sub_clean['followers']))\n",
    "inst_sub_clean"
   ]
  },
  {
   "cell_type": "code",
   "execution_count": null,
   "metadata": {},
   "outputs": [],
   "source": [
    "inst_sub_clean.to_csv('clean_alsu.csv', index=False, header=False)"
   ]
  },
  {
   "cell_type": "code",
   "execution_count": null,
   "metadata": {},
   "outputs": [],
   "source": []
  }
 ],
 "metadata": {
  "kernelspec": {
   "display_name": "base",
   "language": "python",
   "name": "python3"
  },
  "language_info": {
   "codemirror_mode": {
    "name": "ipython",
    "version": 3
   },
   "file_extension": ".py",
   "mimetype": "text/x-python",
   "name": "python",
   "nbconvert_exporter": "python",
   "pygments_lexer": "ipython3",
   "version": "3.11.6"
  }
 },
 "nbformat": 4,
 "nbformat_minor": 2
}
