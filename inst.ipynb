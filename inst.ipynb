{
 "cells": [
  {
   "cell_type": "code",
   "execution_count": 33,
   "metadata": {},
   "outputs": [
    {
     "name": "stdout",
     "output_type": "stream",
     "text": [
      "Requirement already satisfied: instaloader in c:\\users\\kompukter\\anaconda3\\envs\\geo_parser\\lib\\site-packages (4.10.2)\n",
      "Requirement already satisfied: requests>=2.4 in c:\\users\\kompukter\\anaconda3\\envs\\geo_parser\\lib\\site-packages (from instaloader) (2.31.0)\n",
      "Requirement already satisfied: charset-normalizer<4,>=2 in c:\\users\\kompukter\\anaconda3\\envs\\geo_parser\\lib\\site-packages (from requests>=2.4->instaloader) (3.3.2)\n",
      "Requirement already satisfied: idna<4,>=2.5 in c:\\users\\kompukter\\anaconda3\\envs\\geo_parser\\lib\\site-packages (from requests>=2.4->instaloader) (3.4)\n",
      "Requirement already satisfied: urllib3<3,>=1.21.1 in c:\\users\\kompukter\\anaconda3\\envs\\geo_parser\\lib\\site-packages (from requests>=2.4->instaloader) (1.26.18)\n",
      "Requirement already satisfied: certifi>=2017.4.17 in c:\\users\\kompukter\\anaconda3\\envs\\geo_parser\\lib\\site-packages (from requests>=2.4->instaloader) (2023.11.17)\n",
      "Note: you may need to restart the kernel to use updated packages.\n"
     ]
    }
   ],
   "source": [
    "import pandas as pd\n",
    "import numpy as np\n",
    "%pip install instaloader\n",
    "import instaloader"
   ]
  },
  {
   "cell_type": "code",
   "execution_count": 35,
   "metadata": {},
   "outputs": [],
   "source": [
    "USER = input(\"Введи логин от своего инстаграма\")\n",
    "PASSWORD = input(\"Введи пароль от своего инстаграма\")\n",
    "loader = instaloader.Instaloader()\n",
    "loader.login(USER, PASSWORD)"
   ]
  },
  {
   "cell_type": "code",
   "execution_count": 88,
   "metadata": {},
   "outputs": [],
   "source": [
    "target_profile = input(\"Введи логин профиле в котором нужно сравнить подписчиков и подписки\")\n",
    "profile = instaloader.Profile.from_username(loader.context, target_profile)"
   ]
  },
  {
   "cell_type": "code",
   "execution_count": 89,
   "metadata": {},
   "outputs": [],
   "source": [
    "df_followers = pd.Series(profile.get_followers())\n",
    "df_followees = pd.Series(profile.get_followees())"
   ]
  },
  {
   "cell_type": "code",
   "execution_count": 97,
   "metadata": {},
   "outputs": [
    {
     "data": {
      "text/html": [
       "<div>\n",
       "<style scoped>\n",
       "    .dataframe tbody tr th:only-of-type {\n",
       "        vertical-align: middle;\n",
       "    }\n",
       "\n",
       "    .dataframe tbody tr th {\n",
       "        vertical-align: top;\n",
       "    }\n",
       "\n",
       "    .dataframe thead th {\n",
       "        text-align: right;\n",
       "    }\n",
       "</style>\n",
       "<table border=\"1\" class=\"dataframe\">\n",
       "  <thead>\n",
       "    <tr style=\"text-align: right;\">\n",
       "      <th></th>\n",
       "      <th>followers</th>\n",
       "      <th>followees</th>\n",
       "    </tr>\n",
       "  </thead>\n",
       "  <tbody>\n",
       "    <tr>\n",
       "      <th>0</th>\n",
       "      <td>ruslan__fit</td>\n",
       "      <td>rigat_rafisovich</td>\n",
       "    </tr>\n",
       "    <tr>\n",
       "      <th>1</th>\n",
       "      <td>the_andean_diaspora_studio</td>\n",
       "      <td>da_niiar3562</td>\n",
       "    </tr>\n",
       "    <tr>\n",
       "      <th>2</th>\n",
       "      <td>bahharazi</td>\n",
       "      <td>shadrina_ana</td>\n",
       "    </tr>\n",
       "    <tr>\n",
       "      <th>3</th>\n",
       "      <td>corgi_loversunite</td>\n",
       "      <td>khanchik0002</td>\n",
       "    </tr>\n",
       "    <tr>\n",
       "      <th>4</th>\n",
       "      <td>corgi.fans.usa</td>\n",
       "      <td>marina_sakramel</td>\n",
       "    </tr>\n",
       "  </tbody>\n",
       "</table>\n",
       "</div>"
      ],
      "text/plain": [
       "                    followers         followees\n",
       "0                 ruslan__fit  rigat_rafisovich\n",
       "1  the_andean_diaspora_studio      da_niiar3562\n",
       "2                   bahharazi      shadrina_ana\n",
       "3           corgi_loversunite      khanchik0002\n",
       "4              corgi.fans.usa   marina_sakramel"
      ]
     },
     "execution_count": 97,
     "metadata": {},
     "output_type": "execute_result"
    }
   ],
   "source": [
    "inst_sub = pd.DataFrame({'followers': df_followers, 'followees': df_followees})\n",
    "\n",
    "inst_sub['followers'] = inst_sub['followers'].astype(str)\n",
    "inst_sub['followees'] = inst_sub['followees'].astype(str)\n",
    "inst_sub = inst_sub.fillna({'followees': \"0\", 'followees': \"0\"})\n",
    "\n",
    "def clean_data(inst_sub):\n",
    "    # Split text using string ' ' in columns: 'followers', 'followees'\n",
    "    loc_0 = inst_sub.columns.get_loc('followers')\n",
    "    inst_sub_split = inst_sub['followers'].str.split(expand=True).add_prefix('followers_')\n",
    "    inst_sub = pd.concat([inst_sub.iloc[:, :loc_0], inst_sub_split, inst_sub.iloc[:, loc_0:]], axis=1)\n",
    "    loc_1 = inst_sub.columns.get_loc('followees')\n",
    "    inst_sub_split = inst_sub['followees'].str.split(expand=True).add_prefix('followees_')\n",
    "    inst_sub = pd.concat([inst_sub.iloc[:, :loc_1], inst_sub_split, inst_sub.iloc[:, loc_1:]], axis=1)\n",
    "    inst_sub = inst_sub.drop(columns=['followers', 'followees'])\n",
    "    # Drop columns: 'followers_0', 'followers_2' and 2 other columns\n",
    "    inst_sub = inst_sub.drop(columns=['followers_0', 'followers_2', 'followees_0', 'followees_2'])\n",
    "    # Rename column 'followers_1' to 'followers'\n",
    "    inst_sub = inst_sub.rename(columns={'followers_1': 'followers'})\n",
    "    # Rename column 'followees_1' to 'followees'\n",
    "    inst_sub = inst_sub.rename(columns={'followees_1': 'followees'})\n",
    "    return inst_sub\n",
    "\n",
    "inst_sub_clean = clean_data(inst_sub.copy())\n",
    "\n",
    "inst_sub_clean['followers'] = inst_sub_clean['followers'].astype(str)\n",
    "inst_sub_clean['followees'] = inst_sub_clean['followees'].astype(str)\n",
    "inst_sub_clean = inst_sub_clean.fillna({'followees': \"0\", 'followees': \"0\"})\n",
    "\n",
    "inst_sub_clean.head()"
   ]
  },
  {
   "cell_type": "code",
   "execution_count": 98,
   "metadata": {},
   "outputs": [
    {
     "data": {
      "text/plain": [
       "0                 4chah\n",
       "1              4chan_tv\n",
       "2                  None\n",
       "3      ____marselka____\n",
       "4           _agentgirl_\n",
       "             ...       \n",
       "101         woman_vines\n",
       "102      worldcinema.ru\n",
       "103           wusabi.el\n",
       "104           wysh.shop\n",
       "105            zigansha\n",
       "Length: 106, dtype: object"
      ]
     },
     "execution_count": 98,
     "metadata": {},
     "output_type": "execute_result"
    }
   ],
   "source": [
    "inst_sub_clean = pd.Series(np.setdiff1d(inst_sub_clean['followees'], inst_sub_clean['followers']))\n",
    "inst_sub_clean"
   ]
  },
  {
   "cell_type": "code",
   "execution_count": 107,
   "metadata": {},
   "outputs": [],
   "source": [
    "inst_sub_clean.to_csv('clean_alsu.csv', index=False, header=False)"
   ]
  }
 ],
 "metadata": {
  "kernelspec": {
   "display_name": "base",
   "language": "python",
   "name": "python3"
  },
  "language_info": {
   "codemirror_mode": {
    "name": "ipython",
    "version": 3
   },
   "file_extension": ".py",
   "mimetype": "text/x-python",
   "name": "python",
   "nbconvert_exporter": "python",
   "pygments_lexer": "ipython3",
   "version": "3.11.6"
  }
 },
 "nbformat": 4,
 "nbformat_minor": 2
}
